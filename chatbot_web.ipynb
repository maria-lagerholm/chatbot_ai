{
 "cells": [
  {
   "cell_type": "code",
   "execution_count": 1,
   "id": "5108a1b3",
   "metadata": {
    "collapsed": true,
    "jupyter": {
     "outputs_hidden": true
    },
    "scrolled": true
   },
   "outputs": [
    {
     "name": "stdout",
     "output_type": "stream",
     "text": [
      "Requirement already satisfied: streamlit in /Users/mariiakokina/Documents/python3.9_env/lib/python3.9/site-packages (1.26.0)\n",
      "Requirement already satisfied: openai in /Users/mariiakokina/Documents/python3.9_env/lib/python3.9/site-packages (0.28.0)\n",
      "Requirement already satisfied: nltk in /Users/mariiakokina/Documents/python3.9_env/lib/python3.9/site-packages (3.8.1)\n",
      "Requirement already satisfied: langchain in /Users/mariiakokina/Documents/python3.9_env/lib/python3.9/site-packages (0.0.284)\n",
      "Requirement already satisfied: llama-index in /Users/mariiakokina/Documents/python3.9_env/lib/python3.9/site-packages (0.8.9)\n",
      "Requirement already satisfied: tzlocal<5,>=1.1 in /Users/mariiakokina/Documents/python3.9_env/lib/python3.9/site-packages (from streamlit) (4.3.1)\n",
      "Requirement already satisfied: toml<2,>=0.10.1 in /Users/mariiakokina/Documents/python3.9_env/lib/python3.9/site-packages (from streamlit) (0.10.2)\n",
      "Requirement already satisfied: altair<6,>=4.0 in /Users/mariiakokina/Documents/python3.9_env/lib/python3.9/site-packages (from streamlit) (5.1.1)\n",
      "Requirement already satisfied: cachetools<6,>=4.0 in /Users/mariiakokina/Documents/python3.9_env/lib/python3.9/site-packages (from streamlit) (5.3.1)\n",
      "Requirement already satisfied: rich<14,>=10.14.0 in /Users/mariiakokina/Documents/python3.9_env/lib/python3.9/site-packages (from streamlit) (13.5.2)\n",
      "Requirement already satisfied: packaging<24,>=16.8 in /Users/mariiakokina/Documents/python3.9_env/lib/python3.9/site-packages (from streamlit) (23.1)\n",
      "Requirement already satisfied: pydeck<1,>=0.8 in /Users/mariiakokina/Documents/python3.9_env/lib/python3.9/site-packages (from streamlit) (0.8.0)\n",
      "Requirement already satisfied: click<9,>=7.0 in /Users/mariiakokina/Documents/python3.9_env/lib/python3.9/site-packages (from streamlit) (8.1.6)\n",
      "Requirement already satisfied: validators<1,>=0.2 in /Users/mariiakokina/Documents/python3.9_env/lib/python3.9/site-packages (from streamlit) (0.22.0)\n",
      "Requirement already satisfied: protobuf<5,>=3.20 in /Users/mariiakokina/Documents/python3.9_env/lib/python3.9/site-packages (from streamlit) (4.24.3)\n",
      "Requirement already satisfied: python-dateutil<3,>=2.7.3 in /Users/mariiakokina/Documents/python3.9_env/lib/python3.9/site-packages (from streamlit) (2.8.2)\n",
      "Requirement already satisfied: pandas<3,>=1.3.0 in /Users/mariiakokina/Documents/python3.9_env/lib/python3.9/site-packages (from streamlit) (2.0.3)\n",
      "Requirement already satisfied: pillow<10,>=7.1.0 in /Users/mariiakokina/Documents/python3.9_env/lib/python3.9/site-packages (from streamlit) (9.5.0)\n",
      "Requirement already satisfied: gitpython!=3.1.19,<4,>=3.0.7 in /Users/mariiakokina/Documents/python3.9_env/lib/python3.9/site-packages (from streamlit) (3.1.35)\n",
      "Requirement already satisfied: tenacity<9,>=8.1.0 in /Users/mariiakokina/Documents/python3.9_env/lib/python3.9/site-packages (from streamlit) (8.2.2)\n",
      "Requirement already satisfied: pympler<2,>=0.9 in /Users/mariiakokina/Documents/python3.9_env/lib/python3.9/site-packages (from streamlit) (1.0.1)\n",
      "Requirement already satisfied: pyarrow>=6.0 in /Users/mariiakokina/Documents/python3.9_env/lib/python3.9/site-packages (from streamlit) (13.0.0)\n",
      "Requirement already satisfied: tornado<7,>=6.0.3 in /Users/mariiakokina/Documents/python3.9_env/lib/python3.9/site-packages (from streamlit) (6.3.2)\n",
      "Requirement already satisfied: requests<3,>=2.18 in /Users/mariiakokina/Documents/python3.9_env/lib/python3.9/site-packages (from streamlit) (2.29.0)\n",
      "Requirement already satisfied: importlib-metadata<7,>=1.4 in /Users/mariiakokina/Documents/python3.9_env/lib/python3.9/site-packages (from streamlit) (6.8.0)\n",
      "Requirement already satisfied: numpy<2,>=1.19.3 in /Users/mariiakokina/Documents/python3.9_env/lib/python3.9/site-packages (from streamlit) (1.25.2)\n",
      "Requirement already satisfied: blinker<2,>=1.0.0 in /Users/mariiakokina/Documents/python3.9_env/lib/python3.9/site-packages (from streamlit) (1.6.2)\n",
      "Requirement already satisfied: typing-extensions<5,>=4.1.0 in /Users/mariiakokina/Documents/python3.9_env/lib/python3.9/site-packages (from streamlit) (4.7.1)\n",
      "Requirement already satisfied: tqdm in /Users/mariiakokina/Documents/python3.9_env/lib/python3.9/site-packages (from openai) (4.65.0)\n",
      "Requirement already satisfied: aiohttp in /Users/mariiakokina/Documents/python3.9_env/lib/python3.9/site-packages (from openai) (3.8.5)\n",
      "Requirement already satisfied: regex>=2021.8.3 in /Users/mariiakokina/Documents/python3.9_env/lib/python3.9/site-packages (from nltk) (2023.6.3)\n",
      "Requirement already satisfied: joblib in /Users/mariiakokina/Documents/python3.9_env/lib/python3.9/site-packages (from nltk) (1.3.1)\n",
      "Requirement already satisfied: pydantic<3,>=1 in /Users/mariiakokina/Documents/python3.9_env/lib/python3.9/site-packages (from langchain) (1.10.12)\n",
      "Requirement already satisfied: numexpr<3.0.0,>=2.8.4 in /Users/mariiakokina/Documents/python3.9_env/lib/python3.9/site-packages (from langchain) (2.8.4)\n",
      "Requirement already satisfied: langsmith<0.1.0,>=0.0.21 in /Users/mariiakokina/Documents/python3.9_env/lib/python3.9/site-packages (from langchain) (0.0.33)\n",
      "Requirement already satisfied: async-timeout<5.0.0,>=4.0.0 in /Users/mariiakokina/Documents/python3.9_env/lib/python3.9/site-packages (from langchain) (4.0.2)\n",
      "Requirement already satisfied: dataclasses-json<0.6.0,>=0.5.7 in /Users/mariiakokina/Documents/python3.9_env/lib/python3.9/site-packages (from langchain) (0.5.14)\n",
      "Requirement already satisfied: SQLAlchemy<3,>=1.4 in /Users/mariiakokina/Documents/python3.9_env/lib/python3.9/site-packages (from langchain) (2.0.19)\n",
      "Requirement already satisfied: PyYAML>=5.3 in /Users/mariiakokina/Documents/python3.9_env/lib/python3.9/site-packages (from langchain) (6.0.1)\n",
      "Requirement already satisfied: beautifulsoup4 in /Users/mariiakokina/Documents/python3.9_env/lib/python3.9/site-packages (from llama-index) (4.12.2)\n",
      "Requirement already satisfied: fsspec>=2023.5.0 in /Users/mariiakokina/Documents/python3.9_env/lib/python3.9/site-packages (from llama-index) (2023.6.0)\n",
      "Requirement already satisfied: typing-inspect>=0.8.0 in /Users/mariiakokina/Documents/python3.9_env/lib/python3.9/site-packages (from llama-index) (0.9.0)\n",
      "Requirement already satisfied: nest-asyncio in /Users/mariiakokina/Documents/python3.9_env/lib/python3.9/site-packages (from llama-index) (1.5.7)\n",
      "Requirement already satisfied: urllib3<2 in /Users/mariiakokina/Documents/python3.9_env/lib/python3.9/site-packages (from llama-index) (1.26.16)\n",
      "Requirement already satisfied: tiktoken in /Users/mariiakokina/Documents/python3.9_env/lib/python3.9/site-packages (from llama-index) (0.4.0)\n",
      "Requirement already satisfied: attrs>=17.3.0 in /Users/mariiakokina/Documents/python3.9_env/lib/python3.9/site-packages (from aiohttp->openai) (23.1.0)\n",
      "Requirement already satisfied: yarl<2.0,>=1.0 in /Users/mariiakokina/Documents/python3.9_env/lib/python3.9/site-packages (from aiohttp->openai) (1.9.2)\n",
      "Requirement already satisfied: charset-normalizer<4.0,>=2.0 in /Users/mariiakokina/Documents/python3.9_env/lib/python3.9/site-packages (from aiohttp->openai) (3.2.0)\n",
      "Requirement already satisfied: aiosignal>=1.1.2 in /Users/mariiakokina/Documents/python3.9_env/lib/python3.9/site-packages (from aiohttp->openai) (1.3.1)\n",
      "Requirement already satisfied: multidict<7.0,>=4.5 in /Users/mariiakokina/Documents/python3.9_env/lib/python3.9/site-packages (from aiohttp->openai) (6.0.4)\n",
      "Requirement already satisfied: frozenlist>=1.1.1 in /Users/mariiakokina/Documents/python3.9_env/lib/python3.9/site-packages (from aiohttp->openai) (1.4.0)\n",
      "Requirement already satisfied: jinja2 in /Users/mariiakokina/Documents/python3.9_env/lib/python3.9/site-packages (from altair<6,>=4.0->streamlit) (3.1.2)\n",
      "Requirement already satisfied: toolz in /Users/mariiakokina/Documents/python3.9_env/lib/python3.9/site-packages (from altair<6,>=4.0->streamlit) (0.12.0)\n",
      "Requirement already satisfied: jsonschema>=3.0 in /Users/mariiakokina/Documents/python3.9_env/lib/python3.9/site-packages (from altair<6,>=4.0->streamlit) (4.18.6)\n",
      "Requirement already satisfied: marshmallow<4.0.0,>=3.18.0 in /Users/mariiakokina/Documents/python3.9_env/lib/python3.9/site-packages (from dataclasses-json<0.6.0,>=0.5.7->langchain) (3.20.1)\n",
      "Requirement already satisfied: gitdb<5,>=4.0.1 in /Users/mariiakokina/Documents/python3.9_env/lib/python3.9/site-packages (from gitpython!=3.1.19,<4,>=3.0.7->streamlit) (4.0.10)\n",
      "Requirement already satisfied: zipp>=0.5 in /Users/mariiakokina/Documents/python3.9_env/lib/python3.9/site-packages (from importlib-metadata<7,>=1.4->streamlit) (3.16.2)\n",
      "Requirement already satisfied: tzdata>=2022.1 in /Users/mariiakokina/Documents/python3.9_env/lib/python3.9/site-packages (from pandas<3,>=1.3.0->streamlit) (2023.3)\n",
      "Requirement already satisfied: pytz>=2020.1 in /Users/mariiakokina/Documents/python3.9_env/lib/python3.9/site-packages (from pandas<3,>=1.3.0->streamlit) (2023.3)\n",
      "Requirement already satisfied: six>=1.5 in /Users/mariiakokina/Documents/python3.9_env/lib/python3.9/site-packages (from python-dateutil<3,>=2.7.3->streamlit) (1.16.0)\n",
      "Requirement already satisfied: certifi>=2017.4.17 in /Users/mariiakokina/Documents/python3.9_env/lib/python3.9/site-packages (from requests<3,>=2.18->streamlit) (2023.7.22)\n",
      "Requirement already satisfied: idna<4,>=2.5 in /Users/mariiakokina/Documents/python3.9_env/lib/python3.9/site-packages (from requests<3,>=2.18->streamlit) (3.4)\n",
      "Requirement already satisfied: pygments<3.0.0,>=2.13.0 in /Users/mariiakokina/Documents/python3.9_env/lib/python3.9/site-packages (from rich<14,>=10.14.0->streamlit) (2.16.1)\n",
      "Requirement already satisfied: markdown-it-py>=2.2.0 in /Users/mariiakokina/Documents/python3.9_env/lib/python3.9/site-packages (from rich<14,>=10.14.0->streamlit) (3.0.0)\n",
      "Requirement already satisfied: mypy-extensions>=0.3.0 in /Users/mariiakokina/Documents/python3.9_env/lib/python3.9/site-packages (from typing-inspect>=0.8.0->llama-index) (1.0.0)\n",
      "Requirement already satisfied: pytz-deprecation-shim in /Users/mariiakokina/Documents/python3.9_env/lib/python3.9/site-packages (from tzlocal<5,>=1.1->streamlit) (0.1.0.post0)\n",
      "Requirement already satisfied: soupsieve>1.2 in /Users/mariiakokina/Documents/python3.9_env/lib/python3.9/site-packages (from beautifulsoup4->llama-index) (2.4.1)\n",
      "Requirement already satisfied: smmap<6,>=3.0.1 in /Users/mariiakokina/Documents/python3.9_env/lib/python3.9/site-packages (from gitdb<5,>=4.0.1->gitpython!=3.1.19,<4,>=3.0.7->streamlit) (5.0.0)\n",
      "Requirement already satisfied: MarkupSafe>=2.0 in /Users/mariiakokina/Documents/python3.9_env/lib/python3.9/site-packages (from jinja2->altair<6,>=4.0->streamlit) (2.1.3)\n",
      "Requirement already satisfied: jsonschema-specifications>=2023.03.6 in /Users/mariiakokina/Documents/python3.9_env/lib/python3.9/site-packages (from jsonschema>=3.0->altair<6,>=4.0->streamlit) (2023.7.1)\n",
      "Requirement already satisfied: rpds-py>=0.7.1 in /Users/mariiakokina/Documents/python3.9_env/lib/python3.9/site-packages (from jsonschema>=3.0->altair<6,>=4.0->streamlit) (0.9.2)\n",
      "Requirement already satisfied: referencing>=0.28.4 in /Users/mariiakokina/Documents/python3.9_env/lib/python3.9/site-packages (from jsonschema>=3.0->altair<6,>=4.0->streamlit) (0.30.2)\n",
      "Requirement already satisfied: mdurl~=0.1 in /Users/mariiakokina/Documents/python3.9_env/lib/python3.9/site-packages (from markdown-it-py>=2.2.0->rich<14,>=10.14.0->streamlit) (0.1.2)\n",
      "\n",
      "\u001b[1m[\u001b[0m\u001b[34;49mnotice\u001b[0m\u001b[1;39;49m]\u001b[0m\u001b[39;49m A new release of pip available: \u001b[0m\u001b[31;49m22.3.1\u001b[0m\u001b[39;49m -> \u001b[0m\u001b[32;49m23.2.1\u001b[0m\n",
      "\u001b[1m[\u001b[0m\u001b[34;49mnotice\u001b[0m\u001b[1;39;49m]\u001b[0m\u001b[39;49m To update, run: \u001b[0m\u001b[32;49mpip install --upgrade pip\u001b[0m\n"
     ]
    }
   ],
   "source": [
    "!pip install streamlit openai nltk langchain llama-index\n",
    "#!pip install langchain==0.0.174 llama-index==0.6.9"
   ]
  },
  {
   "cell_type": "markdown",
   "id": "9d9b8db6-f1c8-43b3-8fd6-22648f114dc1",
   "metadata": {},
   "source": [
    "Import libraries"
   ]
  },
  {
   "cell_type": "code",
   "execution_count": 2,
   "id": "3332debb",
   "metadata": {},
   "outputs": [],
   "source": [
    "import streamlit as st\n",
    "from llama_index import VectorStoreIndex, ServiceContext, Document\n",
    "from llama_index.llms import OpenAI\n",
    "import openai\n",
    "from llama_index import SimpleDirectoryReader"
   ]
  },
  {
   "cell_type": "code",
   "execution_count": null,
   "id": "a052d6a2-f318-4e99-9194-5a2fc94f1ff6",
   "metadata": {},
   "outputs": [],
   "source": []
  },
  {
   "cell_type": "code",
   "execution_count": 4,
   "id": "d94c4413",
   "metadata": {
    "scrolled": true
   },
   "outputs": [
    {
     "name": "stderr",
     "output_type": "stream",
     "text": [
      "2023-09-08 14:08:57.975 \n",
      "  \u001b[33m\u001b[1mWarning:\u001b[0m to view this Streamlit app on a browser, run it with the following\n",
      "  command:\n",
      "\n",
      "    streamlit run /Users/mariiakokina/Documents/python3.9_env/lib/python3.9/site-packages/ipykernel_launcher.py [ARGUMENTS]\n"
     ]
    },
    {
     "ename": "AttributeError",
     "evalue": "st.secrets has no attribute \"openai_key\". Did you forget to add it to secrets.toml or the app settings on Streamlit Cloud? More info: https://docs.streamlit.io/streamlit-cloud/get-started/deploy-an-app/connect-to-data-sources/secrets-management",
     "output_type": "error",
     "traceback": [
      "\u001b[0;31m---------------------------------------------------------------------------\u001b[0m",
      "\u001b[0;31mFileNotFoundError\u001b[0m                         Traceback (most recent call last)",
      "File \u001b[0;32m~/Documents/python3.9_env/lib/python3.9/site-packages/streamlit/runtime/secrets.py:287\u001b[0m, in \u001b[0;36mSecrets.__getattr__\u001b[0;34m(self, key)\u001b[0m\n\u001b[1;32m    286\u001b[0m \u001b[38;5;28;01mtry\u001b[39;00m:\n\u001b[0;32m--> 287\u001b[0m     value \u001b[38;5;241m=\u001b[39m \u001b[38;5;28;43mself\u001b[39;49m\u001b[38;5;241;43m.\u001b[39;49m\u001b[43m_parse\u001b[49m\u001b[43m(\u001b[49m\u001b[38;5;28;43;01mTrue\u001b[39;49;00m\u001b[43m)\u001b[49m[key]\n\u001b[1;32m    288\u001b[0m     \u001b[38;5;28;01mif\u001b[39;00m \u001b[38;5;129;01mnot\u001b[39;00m \u001b[38;5;28misinstance\u001b[39m(value, Mapping):\n",
      "File \u001b[0;32m~/Documents/python3.9_env/lib/python3.9/site-packages/streamlit/runtime/secrets.py:214\u001b[0m, in \u001b[0;36mSecrets._parse\u001b[0;34m(self, print_exceptions)\u001b[0m\n\u001b[1;32m    213\u001b[0m         st\u001b[38;5;241m.\u001b[39merror(err_msg)\n\u001b[0;32m--> 214\u001b[0m     \u001b[38;5;28;01mraise\u001b[39;00m \u001b[38;5;167;01mFileNotFoundError\u001b[39;00m(err_msg)\n\u001b[1;32m    216\u001b[0m \u001b[38;5;28;01mif\u001b[39;00m \u001b[38;5;28mlen\u001b[39m([p \u001b[38;5;28;01mfor\u001b[39;00m p \u001b[38;5;129;01min\u001b[39;00m \u001b[38;5;28mself\u001b[39m\u001b[38;5;241m.\u001b[39m_file_paths \u001b[38;5;28;01mif\u001b[39;00m os\u001b[38;5;241m.\u001b[39mpath\u001b[38;5;241m.\u001b[39mexists(p)]) \u001b[38;5;241m>\u001b[39m \u001b[38;5;241m1\u001b[39m:\n",
      "\u001b[0;31mFileNotFoundError\u001b[0m: No secrets files found. Valid paths for a secrets.toml file are: /Users/mariiakokina/.streamlit/secrets.toml, /Users/mariiakokina/Documents/chatbot/.streamlit/secrets.toml",
      "\nDuring handling of the above exception, another exception occurred:\n",
      "\u001b[0;31mAttributeError\u001b[0m                            Traceback (most recent call last)",
      "Cell \u001b[0;32mIn[4], line 1\u001b[0m\n\u001b[0;32m----> 1\u001b[0m openai\u001b[38;5;241m.\u001b[39mapi_key \u001b[38;5;241m=\u001b[39m \u001b[43mst\u001b[49m\u001b[38;5;241;43m.\u001b[39;49m\u001b[43msecrets\u001b[49m\u001b[38;5;241;43m.\u001b[39;49m\u001b[43mopenai_key\u001b[49m\n\u001b[1;32m      2\u001b[0m st\u001b[38;5;241m.\u001b[39mheader(\u001b[38;5;124m\"\u001b[39m\u001b[38;5;124mChat med Maria\u001b[39m\u001b[38;5;124m\"\u001b[39m)\n\u001b[1;32m      4\u001b[0m \u001b[38;5;28;01mif\u001b[39;00m \u001b[38;5;124m\"\u001b[39m\u001b[38;5;124mmessages\u001b[39m\u001b[38;5;124m\"\u001b[39m \u001b[38;5;129;01mnot\u001b[39;00m \u001b[38;5;129;01min\u001b[39;00m st\u001b[38;5;241m.\u001b[39msession_state\u001b[38;5;241m.\u001b[39mkeys(): \u001b[38;5;66;03m# Initialize the chat message history\u001b[39;00m\n",
      "File \u001b[0;32m~/Documents/python3.9_env/lib/python3.9/site-packages/streamlit/runtime/secrets.py:296\u001b[0m, in \u001b[0;36mSecrets.__getattr__\u001b[0;34m(self, key)\u001b[0m\n\u001b[1;32m    292\u001b[0m \u001b[38;5;66;03m# We add FileNotFoundError since __getattr__ is expected to only raise\u001b[39;00m\n\u001b[1;32m    293\u001b[0m \u001b[38;5;66;03m# AttributeError. Without handling FileNotFoundError, unittests.mocks\u001b[39;00m\n\u001b[1;32m    294\u001b[0m \u001b[38;5;66;03m# fails during mock creation on Python3.9\u001b[39;00m\n\u001b[1;32m    295\u001b[0m \u001b[38;5;28;01mexcept\u001b[39;00m (\u001b[38;5;167;01mKeyError\u001b[39;00m, \u001b[38;5;167;01mFileNotFoundError\u001b[39;00m):\n\u001b[0;32m--> 296\u001b[0m     \u001b[38;5;28;01mraise\u001b[39;00m \u001b[38;5;167;01mAttributeError\u001b[39;00m(_missing_attr_error_message(key))\n",
      "\u001b[0;31mAttributeError\u001b[0m: st.secrets has no attribute \"openai_key\". Did you forget to add it to secrets.toml or the app settings on Streamlit Cloud? More info: https://docs.streamlit.io/streamlit-cloud/get-started/deploy-an-app/connect-to-data-sources/secrets-management"
     ]
    }
   ],
   "source": [
    "# Initialize message history\n",
    "openai.api_key = st.secrets.openai_key\n",
    "st.header(\"Chat med Maria\")\n",
    "\n",
    "if \"messages\" not in st.session_state.keys(): # Initialize the chat message history\n",
    "    st.session_state.messages = [\n",
    "        {\"role\": \"assistent\", \"content\": \"Fråga mig!\"}\n",
    "            ]\n",
    "\n"
   ]
  },
  {
   "cell_type": "code",
   "execution_count": 5,
   "id": "3d757a4c",
   "metadata": {},
   "outputs": [
    {
     "ename": "ValueError",
     "evalue": "No API key found for OpenAI.\nPlease set either the OPENAI_API_KEY environment variable or openai.api_key prior to initialization.\nAPI keys can be found or created at https://platform.openai.com/account/api-keys\n",
     "output_type": "error",
     "traceback": [
      "\u001b[0;31m---------------------------------------------------------------------------\u001b[0m",
      "\u001b[0;31mCacheKeyNotFoundError\u001b[0m                     Traceback (most recent call last)",
      "File \u001b[0;32m~/Documents/python3.9_env/lib/python3.9/site-packages/streamlit/runtime/caching/cache_utils.py:263\u001b[0m, in \u001b[0;36mCachedFunc._get_or_create_cached_value\u001b[0;34m(self, func_args, func_kwargs)\u001b[0m\n\u001b[1;32m    262\u001b[0m \u001b[38;5;28;01mtry\u001b[39;00m:\n\u001b[0;32m--> 263\u001b[0m     cached_result \u001b[38;5;241m=\u001b[39m \u001b[43mcache\u001b[49m\u001b[38;5;241;43m.\u001b[39;49m\u001b[43mread_result\u001b[49m\u001b[43m(\u001b[49m\u001b[43mvalue_key\u001b[49m\u001b[43m)\u001b[49m\n\u001b[1;32m    264\u001b[0m     \u001b[38;5;28;01mreturn\u001b[39;00m \u001b[38;5;28mself\u001b[39m\u001b[38;5;241m.\u001b[39m_handle_cache_hit(cached_result)\n",
      "File \u001b[0;32m~/Documents/python3.9_env/lib/python3.9/site-packages/streamlit/runtime/caching/cache_resource_api.py:500\u001b[0m, in \u001b[0;36mResourceCache.read_result\u001b[0;34m(self, key)\u001b[0m\n\u001b[1;32m    498\u001b[0m \u001b[38;5;28;01mif\u001b[39;00m key \u001b[38;5;129;01mnot\u001b[39;00m \u001b[38;5;129;01min\u001b[39;00m \u001b[38;5;28mself\u001b[39m\u001b[38;5;241m.\u001b[39m_mem_cache:\n\u001b[1;32m    499\u001b[0m     \u001b[38;5;66;03m# key does not exist in cache.\u001b[39;00m\n\u001b[0;32m--> 500\u001b[0m     \u001b[38;5;28;01mraise\u001b[39;00m CacheKeyNotFoundError()\n\u001b[1;32m    502\u001b[0m multi_results: MultiCacheResults \u001b[38;5;241m=\u001b[39m \u001b[38;5;28mself\u001b[39m\u001b[38;5;241m.\u001b[39m_mem_cache[key]\n",
      "\u001b[0;31mCacheKeyNotFoundError\u001b[0m: ",
      "\nDuring handling of the above exception, another exception occurred:\n",
      "\u001b[0;31mCacheKeyNotFoundError\u001b[0m                     Traceback (most recent call last)",
      "File \u001b[0;32m~/Documents/python3.9_env/lib/python3.9/site-packages/streamlit/runtime/caching/cache_utils.py:311\u001b[0m, in \u001b[0;36mCachedFunc._handle_cache_miss\u001b[0;34m(self, cache, value_key, func_args, func_kwargs)\u001b[0m\n\u001b[1;32m    310\u001b[0m \u001b[38;5;28;01mtry\u001b[39;00m:\n\u001b[0;32m--> 311\u001b[0m     cached_result \u001b[38;5;241m=\u001b[39m \u001b[43mcache\u001b[49m\u001b[38;5;241;43m.\u001b[39;49m\u001b[43mread_result\u001b[49m\u001b[43m(\u001b[49m\u001b[43mvalue_key\u001b[49m\u001b[43m)\u001b[49m\n\u001b[1;32m    312\u001b[0m     \u001b[38;5;66;03m# Another thread computed the value before us. Early exit!\u001b[39;00m\n",
      "File \u001b[0;32m~/Documents/python3.9_env/lib/python3.9/site-packages/streamlit/runtime/caching/cache_resource_api.py:500\u001b[0m, in \u001b[0;36mResourceCache.read_result\u001b[0;34m(self, key)\u001b[0m\n\u001b[1;32m    498\u001b[0m \u001b[38;5;28;01mif\u001b[39;00m key \u001b[38;5;129;01mnot\u001b[39;00m \u001b[38;5;129;01min\u001b[39;00m \u001b[38;5;28mself\u001b[39m\u001b[38;5;241m.\u001b[39m_mem_cache:\n\u001b[1;32m    499\u001b[0m     \u001b[38;5;66;03m# key does not exist in cache.\u001b[39;00m\n\u001b[0;32m--> 500\u001b[0m     \u001b[38;5;28;01mraise\u001b[39;00m CacheKeyNotFoundError()\n\u001b[1;32m    502\u001b[0m multi_results: MultiCacheResults \u001b[38;5;241m=\u001b[39m \u001b[38;5;28mself\u001b[39m\u001b[38;5;241m.\u001b[39m_mem_cache[key]\n",
      "\u001b[0;31mCacheKeyNotFoundError\u001b[0m: ",
      "\nDuring handling of the above exception, another exception occurred:\n",
      "\u001b[0;31mValueError\u001b[0m                                Traceback (most recent call last)",
      "Cell \u001b[0;32mIn[5], line 12\u001b[0m\n\u001b[1;32m      9\u001b[0m         index \u001b[38;5;241m=\u001b[39m VectorStoreIndex\u001b[38;5;241m.\u001b[39mfrom_documents(docs, service_context\u001b[38;5;241m=\u001b[39mservice_context)\n\u001b[1;32m     10\u001b[0m         \u001b[38;5;28;01mreturn\u001b[39;00m index\n\u001b[0;32m---> 12\u001b[0m index \u001b[38;5;241m=\u001b[39m \u001b[43mload_data\u001b[49m\u001b[43m(\u001b[49m\u001b[43m)\u001b[49m\n",
      "File \u001b[0;32m~/Documents/python3.9_env/lib/python3.9/site-packages/streamlit/runtime/caching/cache_utils.py:211\u001b[0m, in \u001b[0;36mmake_cached_func_wrapper.<locals>.wrapper\u001b[0;34m(*args, **kwargs)\u001b[0m\n\u001b[1;32m    209\u001b[0m \u001b[38;5;129m@functools\u001b[39m\u001b[38;5;241m.\u001b[39mwraps(info\u001b[38;5;241m.\u001b[39mfunc)\n\u001b[1;32m    210\u001b[0m \u001b[38;5;28;01mdef\u001b[39;00m \u001b[38;5;21mwrapper\u001b[39m(\u001b[38;5;241m*\u001b[39margs, \u001b[38;5;241m*\u001b[39m\u001b[38;5;241m*\u001b[39mkwargs):\n\u001b[0;32m--> 211\u001b[0m     \u001b[38;5;28;01mreturn\u001b[39;00m \u001b[43mcached_func\u001b[49m\u001b[43m(\u001b[49m\u001b[38;5;241;43m*\u001b[39;49m\u001b[43margs\u001b[49m\u001b[43m,\u001b[49m\u001b[43m \u001b[49m\u001b[38;5;241;43m*\u001b[39;49m\u001b[38;5;241;43m*\u001b[39;49m\u001b[43mkwargs\u001b[49m\u001b[43m)\u001b[49m\n",
      "File \u001b[0;32m~/Documents/python3.9_env/lib/python3.9/site-packages/streamlit/runtime/caching/cache_utils.py:242\u001b[0m, in \u001b[0;36mCachedFunc.__call__\u001b[0;34m(self, *args, **kwargs)\u001b[0m\n\u001b[1;32m    240\u001b[0m         \u001b[38;5;28;01mreturn\u001b[39;00m \u001b[38;5;28mself\u001b[39m\u001b[38;5;241m.\u001b[39m_get_or_create_cached_value(args, kwargs)\n\u001b[1;32m    241\u001b[0m \u001b[38;5;28;01melse\u001b[39;00m:\n\u001b[0;32m--> 242\u001b[0m     \u001b[38;5;28;01mreturn\u001b[39;00m \u001b[38;5;28;43mself\u001b[39;49m\u001b[38;5;241;43m.\u001b[39;49m\u001b[43m_get_or_create_cached_value\u001b[49m\u001b[43m(\u001b[49m\u001b[43margs\u001b[49m\u001b[43m,\u001b[49m\u001b[43m \u001b[49m\u001b[43mkwargs\u001b[49m\u001b[43m)\u001b[49m\n",
      "File \u001b[0;32m~/Documents/python3.9_env/lib/python3.9/site-packages/streamlit/runtime/caching/cache_utils.py:266\u001b[0m, in \u001b[0;36mCachedFunc._get_or_create_cached_value\u001b[0;34m(self, func_args, func_kwargs)\u001b[0m\n\u001b[1;32m    264\u001b[0m     \u001b[38;5;28;01mreturn\u001b[39;00m \u001b[38;5;28mself\u001b[39m\u001b[38;5;241m.\u001b[39m_handle_cache_hit(cached_result)\n\u001b[1;32m    265\u001b[0m \u001b[38;5;28;01mexcept\u001b[39;00m CacheKeyNotFoundError:\n\u001b[0;32m--> 266\u001b[0m     \u001b[38;5;28;01mreturn\u001b[39;00m \u001b[38;5;28;43mself\u001b[39;49m\u001b[38;5;241;43m.\u001b[39;49m\u001b[43m_handle_cache_miss\u001b[49m\u001b[43m(\u001b[49m\u001b[43mcache\u001b[49m\u001b[43m,\u001b[49m\u001b[43m \u001b[49m\u001b[43mvalue_key\u001b[49m\u001b[43m,\u001b[49m\u001b[43m \u001b[49m\u001b[43mfunc_args\u001b[49m\u001b[43m,\u001b[49m\u001b[43m \u001b[49m\u001b[43mfunc_kwargs\u001b[49m\u001b[43m)\u001b[49m\n",
      "File \u001b[0;32m~/Documents/python3.9_env/lib/python3.9/site-packages/streamlit/runtime/caching/cache_utils.py:320\u001b[0m, in \u001b[0;36mCachedFunc._handle_cache_miss\u001b[0;34m(self, cache, value_key, func_args, func_kwargs)\u001b[0m\n\u001b[1;32m    315\u001b[0m \u001b[38;5;28;01mexcept\u001b[39;00m CacheKeyNotFoundError:\n\u001b[1;32m    316\u001b[0m     \u001b[38;5;66;03m# We acquired the lock before any other thread. Compute the value!\u001b[39;00m\n\u001b[1;32m    317\u001b[0m     \u001b[38;5;28;01mwith\u001b[39;00m \u001b[38;5;28mself\u001b[39m\u001b[38;5;241m.\u001b[39m_info\u001b[38;5;241m.\u001b[39mcached_message_replay_ctx\u001b[38;5;241m.\u001b[39mcalling_cached_function(\n\u001b[1;32m    318\u001b[0m         \u001b[38;5;28mself\u001b[39m\u001b[38;5;241m.\u001b[39m_info\u001b[38;5;241m.\u001b[39mfunc, \u001b[38;5;28mself\u001b[39m\u001b[38;5;241m.\u001b[39m_info\u001b[38;5;241m.\u001b[39mallow_widgets\n\u001b[1;32m    319\u001b[0m     ):\n\u001b[0;32m--> 320\u001b[0m         computed_value \u001b[38;5;241m=\u001b[39m \u001b[38;5;28;43mself\u001b[39;49m\u001b[38;5;241;43m.\u001b[39;49m\u001b[43m_info\u001b[49m\u001b[38;5;241;43m.\u001b[39;49m\u001b[43mfunc\u001b[49m\u001b[43m(\u001b[49m\u001b[38;5;241;43m*\u001b[39;49m\u001b[43mfunc_args\u001b[49m\u001b[43m,\u001b[49m\u001b[43m \u001b[49m\u001b[38;5;241;43m*\u001b[39;49m\u001b[38;5;241;43m*\u001b[39;49m\u001b[43mfunc_kwargs\u001b[49m\u001b[43m)\u001b[49m\n\u001b[1;32m    322\u001b[0m     \u001b[38;5;66;03m# We've computed our value, and now we need to write it back to the cache\u001b[39;00m\n\u001b[1;32m    323\u001b[0m     \u001b[38;5;66;03m# along with any \"replay messages\" that were generated during value computation.\u001b[39;00m\n\u001b[1;32m    324\u001b[0m     messages \u001b[38;5;241m=\u001b[39m \u001b[38;5;28mself\u001b[39m\u001b[38;5;241m.\u001b[39m_info\u001b[38;5;241m.\u001b[39mcached_message_replay_ctx\u001b[38;5;241m.\u001b[39m_most_recent_messages\n",
      "Cell \u001b[0;32mIn[5], line 8\u001b[0m, in \u001b[0;36mload_data\u001b[0;34m()\u001b[0m\n\u001b[1;32m      6\u001b[0m reader \u001b[38;5;241m=\u001b[39m SimpleDirectoryReader(input_dir\u001b[38;5;241m=\u001b[39m\u001b[38;5;124m\"\u001b[39m\u001b[38;5;124m./data\u001b[39m\u001b[38;5;124m\"\u001b[39m, recursive\u001b[38;5;241m=\u001b[39m\u001b[38;5;28;01mTrue\u001b[39;00m)\n\u001b[1;32m      7\u001b[0m docs \u001b[38;5;241m=\u001b[39m reader\u001b[38;5;241m.\u001b[39mload_data()\n\u001b[0;32m----> 8\u001b[0m service_context \u001b[38;5;241m=\u001b[39m ServiceContext\u001b[38;5;241m.\u001b[39mfrom_defaults(llm\u001b[38;5;241m=\u001b[39m\u001b[43mOpenAI\u001b[49m\u001b[43m(\u001b[49m\u001b[43mmodel\u001b[49m\u001b[38;5;241;43m=\u001b[39;49m\u001b[38;5;124;43m\"\u001b[39;49m\u001b[38;5;124;43mgpt-3.5-turbo\u001b[39;49m\u001b[38;5;124;43m\"\u001b[39;49m\u001b[43m,\u001b[49m\u001b[43m \u001b[49m\u001b[43mtemperature\u001b[49m\u001b[38;5;241;43m=\u001b[39;49m\u001b[38;5;241;43m0\u001b[39;49m\u001b[43m,\u001b[49m\u001b[43m \u001b[49m\u001b[43msystem_prompt\u001b[49m\u001b[38;5;241;43m=\u001b[39;49m\u001b[38;5;124;43m\"\u001b[39;49m\u001b[38;5;124;43mAnswer technical questions based on the data provided. Keep your answers technical and based on facts – do not hallucinate features.\u001b[39;49m\u001b[38;5;124;43m\"\u001b[39;49m\u001b[43m)\u001b[49m)\n\u001b[1;32m      9\u001b[0m index \u001b[38;5;241m=\u001b[39m VectorStoreIndex\u001b[38;5;241m.\u001b[39mfrom_documents(docs, service_context\u001b[38;5;241m=\u001b[39mservice_context)\n\u001b[1;32m     10\u001b[0m \u001b[38;5;28;01mreturn\u001b[39;00m index\n",
      "File \u001b[0;32m~/Documents/python3.9_env/lib/python3.9/site-packages/llama_index/llms/openai.py:67\u001b[0m, in \u001b[0;36mOpenAI.__init__\u001b[0;34m(self, model, temperature, max_tokens, additional_kwargs, max_retries, api_key, api_type, callback_manager, **kwargs)\u001b[0m\n\u001b[1;32m     55\u001b[0m \u001b[38;5;28;01mdef\u001b[39;00m \u001b[38;5;21m__init__\u001b[39m(\n\u001b[1;32m     56\u001b[0m     \u001b[38;5;28mself\u001b[39m,\n\u001b[1;32m     57\u001b[0m     model: \u001b[38;5;28mstr\u001b[39m \u001b[38;5;241m=\u001b[39m \u001b[38;5;124m\"\u001b[39m\u001b[38;5;124mgpt-3.5-turbo\u001b[39m\u001b[38;5;124m\"\u001b[39m,\n\u001b[0;32m   (...)\u001b[0m\n\u001b[1;32m     65\u001b[0m     \u001b[38;5;241m*\u001b[39m\u001b[38;5;241m*\u001b[39mkwargs: Any,\n\u001b[1;32m     66\u001b[0m ) \u001b[38;5;241m-\u001b[39m\u001b[38;5;241m>\u001b[39m \u001b[38;5;28;01mNone\u001b[39;00m:\n\u001b[0;32m---> 67\u001b[0m     \u001b[43mvalidate_openai_api_key\u001b[49m\u001b[43m(\u001b[49m\u001b[43mapi_key\u001b[49m\u001b[43m,\u001b[49m\u001b[43m \u001b[49m\u001b[43mapi_type\u001b[49m\u001b[43m)\u001b[49m\n\u001b[1;32m     69\u001b[0m     additional_kwargs \u001b[38;5;241m=\u001b[39m additional_kwargs \u001b[38;5;129;01mor\u001b[39;00m {}\n\u001b[1;32m     70\u001b[0m     \u001b[38;5;28;01mif\u001b[39;00m api_key \u001b[38;5;129;01mis\u001b[39;00m \u001b[38;5;129;01mnot\u001b[39;00m \u001b[38;5;28;01mNone\u001b[39;00m:\n",
      "File \u001b[0;32m~/Documents/python3.9_env/lib/python3.9/site-packages/llama_index/llms/openai_utils.py:275\u001b[0m, in \u001b[0;36mvalidate_openai_api_key\u001b[0;34m(api_key, api_type)\u001b[0m\n\u001b[1;32m    270\u001b[0m openai_api_type \u001b[38;5;241m=\u001b[39m (\n\u001b[1;32m    271\u001b[0m     api_type \u001b[38;5;129;01mor\u001b[39;00m os\u001b[38;5;241m.\u001b[39menviron\u001b[38;5;241m.\u001b[39mget(\u001b[38;5;124m\"\u001b[39m\u001b[38;5;124mOPENAI_API_TYPE\u001b[39m\u001b[38;5;124m\"\u001b[39m, \u001b[38;5;124m\"\u001b[39m\u001b[38;5;124m\"\u001b[39m) \u001b[38;5;129;01mor\u001b[39;00m openai\u001b[38;5;241m.\u001b[39mapi_type\n\u001b[1;32m    272\u001b[0m )\n\u001b[1;32m    274\u001b[0m \u001b[38;5;28;01mif\u001b[39;00m \u001b[38;5;129;01mnot\u001b[39;00m openai_api_key:\n\u001b[0;32m--> 275\u001b[0m     \u001b[38;5;28;01mraise\u001b[39;00m \u001b[38;5;167;01mValueError\u001b[39;00m(MISSING_API_KEY_ERROR_MESSAGE)\n\u001b[1;32m    276\u001b[0m \u001b[38;5;28;01melif\u001b[39;00m (\n\u001b[1;32m    277\u001b[0m     openai_api_type \u001b[38;5;241m==\u001b[39m \u001b[38;5;124m\"\u001b[39m\u001b[38;5;124mopen_ai\u001b[39m\u001b[38;5;124m\"\u001b[39m\n\u001b[1;32m    278\u001b[0m     \u001b[38;5;129;01mand\u001b[39;00m openai_api_key \u001b[38;5;241m!=\u001b[39m \u001b[38;5;124m\"\u001b[39m\u001b[38;5;124mEMPTY\u001b[39m\u001b[38;5;124m\"\u001b[39m  \u001b[38;5;66;03m# Exempt EMPTY key for fastchat/local models\u001b[39;00m\n\u001b[1;32m    279\u001b[0m     \u001b[38;5;129;01mand\u001b[39;00m \u001b[38;5;129;01mnot\u001b[39;00m OPENAI_API_KEY_FORMAT\u001b[38;5;241m.\u001b[39msearch(openai_api_key)\n\u001b[1;32m    280\u001b[0m ):\n\u001b[1;32m    281\u001b[0m     \u001b[38;5;28;01mraise\u001b[39;00m \u001b[38;5;167;01mValueError\u001b[39;00m(INVALID_API_KEY_ERROR_MESSAGE)\n",
      "\u001b[0;31mValueError\u001b[0m: No API key found for OpenAI.\nPlease set either the OPENAI_API_KEY environment variable or openai.api_key prior to initialization.\nAPI keys can be found or created at https://platform.openai.com/account/api-keys\n"
     ]
    }
   ],
   "source": [
    "#Load and index data\n",
    "\n",
    "@st.cache_resource(show_spinner=False)\n",
    "def load_data():\n",
    "    with st.spinner(text=\"Loading and indexing data\"):\n",
    "        reader = SimpleDirectoryReader(input_dir=\"./data\", recursive=True)\n",
    "        docs = reader.load_data()\n",
    "        service_context = ServiceContext.from_defaults(llm=OpenAI(model=\"gpt-3.5-turbo\", temperature=0, system_prompt=\"Answer technical questions based on the data provided. Keep your answers technical and based on facts – do not hallucinate features.\"))\n",
    "        index = VectorStoreIndex.from_documents(docs, service_context=service_context)\n",
    "        return index\n",
    "\n",
    "index = load_data()"
   ]
  },
  {
   "cell_type": "code",
   "execution_count": null,
   "id": "d0c4ac70-4eaf-4fb1-8859-d97831567f1f",
   "metadata": {},
   "outputs": [],
   "source": []
  }
 ],
 "metadata": {
  "kernelspec": {
   "display_name": "Python 3 (ipykernel)",
   "language": "python",
   "name": "python3"
  },
  "language_info": {
   "codemirror_mode": {
    "name": "ipython",
    "version": 3
   },
   "file_extension": ".py",
   "mimetype": "text/x-python",
   "name": "python",
   "nbconvert_exporter": "python",
   "pygments_lexer": "ipython3",
   "version": "3.9.17"
  }
 },
 "nbformat": 4,
 "nbformat_minor": 5
}
